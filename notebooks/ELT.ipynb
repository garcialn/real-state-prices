{
 "cells": [
  {
   "cell_type": "code",
   "execution_count": null,
   "id": "7ba96b56",
   "metadata": {
    "slideshow": {
     "slide_type": "slide"
    },
    "tags": []
   },
   "outputs": [],
   "source": [
    "import pandas as pd\n",
    "import numpy as np\n",
    "import duckdb as duck\n",
    "import pyarrow as pa\n",
    "import polars as pl\n",
    "\n",
    "con = duck.connect(database='/home/garcia-ln/Documentos/real-state-prices/data/processed/real_state.duckdb')"
   ]
  },
  {
   "cell_type": "markdown",
   "id": "db7da078",
   "metadata": {},
   "source": [
    "## JSON > Parquet\n",
    "Before starting the process of cleaning and transforming the data for  our analysis, we're gonna make sure to convert the files into ```.parquet``` format so that we're always dealing with optimazed performance datasets, no matter the situation.  \n",
    "\n",
    "For that, we're gonna start by loading our data into [Pola.rs](pola.rs 'Most Efficient DataFrame Lib for Python') dataframes and try to get some information from our dataset."
   ]
  },
  {
   "cell_type": "code",
   "execution_count": null,
   "id": "81c20129",
   "metadata": {
    "slideshow": {
     "slide_type": "subslide"
    }
   },
   "outputs": [],
   "source": [
    "sp_dt = pl.read_json('/home/garcia-ln/Documentos/real-state-prices/data/raw/sp_properties.json')\n",
    "rj_dt = pl.read_json('/home/garcia-ln/Documentos/real-state-prices/data/raw/rj_properties.json')\n",
    "pa_dt = pl.read_json('/home/garcia-ln/Documentos/real-state-prices/data/raw/pa_properties.json')\n",
    "bh_dt = pl.read_json('/home/garcia-ln/Documentos/real-state-prices/data/raw/bh_properties.json')\n",
    "\n",
    "#sp_dt.write_parquet('/home/garcia-ln/Documentos/real-state-prices/data/processed/sp_properties.parquet')\n",
    "#rj_dt.write_parquet('/home/garcia-ln/Documentos/real-state-prices/data/processed/rj_properties.parquet')\n",
    "#pa_dt.write_parquet('/home/garcia-ln/Documentos/real-state-prices/data/processed/pa_properties.parquet')\n",
    "#bh_dt.write_parquet('/home/garcia-ln/Documentos/real-state-prices/data/processed/bh_properties.parquet')"
   ]
  },
  {
   "cell_type": "code",
   "execution_count": null,
   "id": "758e56de",
   "metadata": {},
   "outputs": [],
   "source": [
    "con.execute('''\n",
    "    CREATE TABLE sp_tbl as \n",
    "    SELECT * FROM '~/Documentos/real-state-prices/data/processed/sp_properties.parquet';\n",
    "    ALTER TABLE sp_tbl\n",
    "    ADD COLUMN city VARCHAR DEFAULT 'Sao_Paulo'\n",
    "'''\n",
    ").fetchall()\n",
    "\n",
    "sp_df = con.table('sp_tbl').df()\n",
    "display(sp_df)\n",
    "\n",
    "\n",
    "con.execute('''\n",
    "    CREATE TABLE rj_tbl as \n",
    "    SELECT * FROM '~/Documentos/real-state-prices/data/processed/rj_properties.parquet';\n",
    "    ALTER TABLE rj_tbl\n",
    "    ADD COLUMN city VARCHAR DEFAULT 'Rio_de_Janeiro'\n",
    "    '''\n",
    ").fetchall()\n",
    "\n",
    "rj_df = con.table('rj_tbl').df()\n",
    "display(rj_df)\n",
    "\n",
    "\n",
    "con.execute('''\n",
    "    CREATE TABLE pa_tbl as \n",
    "    SELECT * FROM '~/Documentos/real-state-prices/data/processed/pa_properties.parquet';\n",
    "    ALTER TABLE pa_tbl\n",
    "    ADD COLUMN city VARCHAR DEFAULT 'Porto_Alegre'\n",
    "    '''\n",
    ").fetchall()\n",
    "\n",
    "pa_df = con.table('pa_tbl').df()\n",
    "display(pa_df)\n",
    "\n",
    "\n",
    "con.execute('''\n",
    "    CREATE TABLE bh_tbl as \n",
    "    SELECT * FROM '~/Documentos/real-state-prices/data/processed/bh_properties.parquet';\n",
    "    ALTER TABLE bh_tbl\n",
    "    ADD COLUMN city VARCHAR DEFAULT 'Belo_Horizonte'\n",
    "    '''\n",
    ").fetchall()\n",
    "\n",
    "bh_df = con.table('bh_tbl').df()\n",
    "display(bh_df)"
   ]
  },
  {
   "cell_type": "markdown",
   "id": "8a0d0512",
   "metadata": {},
   "source": [
    "## Dtypes\n",
    "\n",
    "Now that we altered the file from ```.json``` to ```.parque``` and added the feature to our dataset we're gonna **add all the tables together and define the dtypes of our data**.  \n",
    "\n",
    "\n",
    "After that we're gonna make sure to **change all dtypes of our dataset**, to keep a tidy dataset for our cleaning, analysis and modeling."
   ]
  },
  {
   "cell_type": "code",
   "execution_count": null,
   "id": "49645736",
   "metadata": {},
   "outputs": [],
   "source": [
    "def set data_type(self: dataframe) -> dataframe:\n",
    "\n",
    "    sp_dt = sp_dt.with_columns(\n",
    "                [\n",
    "                    (pl.col('type').cast(pl.Categorical)),\n",
    "                    (pl.col('address').cast(pl.Categorical)),\n",
    "                    (pl.col('neighborhood').cast(pl.Categorical)),\n",
    "                    (pl.col('footage').cast(pl.Int16)),\n",
    "                    (pl.col('doorms').cast(pl.Int8)),\n",
    "                    (pl.col('garages').cast(pl.Int8)),\n",
    "                    (pl.col('price').cast(pl.Float32))\n",
    "                ]\n",
    "            )\n",
    "sp_dt.describe"
   ]
  },
  {
   "cell_type": "code",
   "execution_count": null,
   "id": "cba99abf",
   "metadata": {
    "slideshow": {
     "slide_type": "subslide"
    }
   },
   "outputs": [],
   "source": [
    "dfs = [sp_dt, rj_dt, pa_dt, bh_dt]\n",
    "cities = ['Sao_Paulo', 'Rio_de_Janeiro', 'Porto_Alegre', 'Belo_Horizonte']\n",
    "\n",
    "dfs[0]['city'], dfs[1]['city'], dfs[2]['city'], dfs[3]['city'] = cities[0], cities[1], cities[2], cities[3]\n",
    "\n",
    "for city in dfs:\n",
    "    display(city)\n",
    "    display(city.info())\n",
    "    display(city.describe())"
   ]
  },
  {
   "cell_type": "code",
   "execution_count": null,
   "id": "106f7100",
   "metadata": {
    "slideshow": {
     "slide_type": "slide"
    }
   },
   "outputs": [],
   "source": [
    "def set_dtype(self):\n",
    "    self['type'] = self['type'].astype('category')\n",
    "    self['address'] = self['address'].astype('category')\n",
    "    self['neighborhood'] = self['neighborhood'].astype('category')\n",
    "    self['footage'] = self['footage'].astype('int16')\n",
    "    self['doorms'] = self['doorms'].astype('int8')\n",
    "    self['garages'] = self['garages'].astype('int8')\n",
    "    self['city'] = self['city'].astype('category')\n",
    "    self['price'] = self['price'].astype('float64')\n",
    "    return self\n",
    "\n",
    "for city in dfs:\n",
    "    set_dtype(city)\n",
    "    display(city.describe())\n",
    "    display(city.info())\n",
    "    display(city)\n"
   ]
  },
  {
   "cell_type": "code",
   "execution_count": null,
   "id": "3073b744",
   "metadata": {
    "slideshow": {
     "slide_type": "notes"
    }
   },
   "outputs": [],
   "source": []
  },
  {
   "cell_type": "code",
   "execution_count": null,
   "id": "4457298b-ddc4-4f35-8ebd-4299ee7078af",
   "metadata": {},
   "outputs": [],
   "source": [
    "sql = '''\n",
    "    CREATE TABLE properties as\n",
    "    SELECT * FROM sp_tbl \n",
    "    UNION ALL \n",
    "    SELECT * FROM rj_tbl \n",
    "    UNION ALL \n",
    "    SELECT * FROM pa_tbl \n",
    "    UNION ALL \n",
    "    SELECT * FROM bh_tbl\n",
    "'''\n",
    "con.execute(sql)"
   ]
  },
  {
   "cell_type": "code",
   "execution_count": null,
   "id": "d17e5cbd",
   "metadata": {},
   "outputs": [],
   "source": []
  },
  {
   "cell_type": "code",
   "execution_count": null,
   "id": "ee46514b",
   "metadata": {},
   "outputs": [],
   "source": []
  },
  {
   "cell_type": "code",
   "execution_count": null,
   "id": "55d3b222",
   "metadata": {},
   "outputs": [],
   "source": []
  },
  {
   "cell_type": "code",
   "execution_count": null,
   "id": "a0dd299f",
   "metadata": {},
   "outputs": [],
   "source": []
  },
  {
   "cell_type": "code",
   "execution_count": null,
   "id": "f6bdf77d",
   "metadata": {},
   "outputs": [],
   "source": []
  },
  {
   "cell_type": "code",
   "execution_count": null,
   "id": "25107179",
   "metadata": {},
   "outputs": [],
   "source": []
  }
 ],
 "metadata": {
  "celltoolbar": "Slideshow",
  "kernelspec": {
   "display_name": "Python 3 (ipykernel)",
   "language": "python",
   "name": "python3"
  },
  "language_info": {
   "codemirror_mode": {
    "name": "ipython",
    "version": 3
   },
   "file_extension": ".py",
   "mimetype": "text/x-python",
   "name": "python",
   "nbconvert_exporter": "python",
   "pygments_lexer": "ipython3",
   "version": "3.11.0"
  },
  "vscode": {
   "interpreter": {
    "hash": "d51eaf2bab5ade07ebe00b6ad723ed46cec5b86ecd5c27970a62f590a707991f"
   }
  }
 },
 "nbformat": 4,
 "nbformat_minor": 5
}

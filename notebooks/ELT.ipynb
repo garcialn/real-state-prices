{
 "cells": [
  {
   "cell_type": "markdown",
   "id": "5e404a41",
   "metadata": {
    "slideshow": {
     "slide_type": "slide"
    },
    "tags": []
   },
   "source": [
    "<img src=\"py_dt.png\" style=\"float: right; border-radius: 5%; width: 300px; height: 300px\" alt=\"py.dt()\" title=\"Real State Prices Prediction\"/>\n",
    "\n",
    "\n",
    "\n",
    "# Real State Properties Price Prediction  \n",
    "\n",
    "---\n",
    "\n",
    "### Project for prediction of Real State properties price  based on the features:\n",
    "\n",
    "---\n",
    "\n",
    "- City (Predictor)\n",
    "- Type of property (Predictor)\n",
    "- Address (Predictor)\n",
    "- Neighborhood (Predictor)\n",
    "- Footage (Predictor)\n",
    "- Doorms (Predictor)\n",
    "- Garages (Predictor)\n",
    "- Price (Dependent Variable)"
   ]
  },
  {
   "cell_type": "code",
   "execution_count": null,
   "id": "cb22a3f7",
   "metadata": {
    "slideshow": {
     "slide_type": "slide"
    }
   },
   "outputs": [],
   "source": [
    "import pandas as pd\n",
    "import numpy as np\n",
    "import scipy.stats as stats\n",
    "import duckdb as duck\n",
    "import pyarrow as pa\n",
    "import polars as pl\n",
    "import seaborn as sns\n",
    "import seaborn.objects as so\n",
    "from matplotlib import pyplot as plt\n",
    "\n",
    "con = duck.connect(database='/home/garcia-ln/Documentos/real-state-prices/data/processed/real_state.duckdb')"
   ]
  },
  {
   "cell_type": "markdown",
   "id": "db7da078",
   "metadata": {
    "slideshow": {
     "slide_type": "slide"
    }
   },
   "source": [
    "## JSON > Parquet\n",
    "Before starting the process of cleaning and transforming the data for  our analysis, we're gonna make sure to convert the files into `.parquet` format so that we're always dealing with optimazed performance datasets, no matter the situation.  \n",
    "\n",
    "For that, we're gonna start by loading our data into [Pola.rs](pola.rs 'Most Efficient DataFrame Lib for Python') dataframes and try to get some information from our dataset."
   ]
  },
  {
   "cell_type": "code",
   "execution_count": null,
   "id": "81c20129",
   "metadata": {
    "slideshow": {
     "slide_type": "subslide"
    }
   },
   "outputs": [],
   "source": [
    "# sp_dt = pl.read_json('/home/garcia-ln/Documentos/real-state-prices/data/raw/sp_properties.json')\n",
    "# rj_dt = pl.read_json('/home/garcia-ln/Documentos/real-state-prices/data/raw/rj_properties.json')\n",
    "# pa_dt = pl.read_json('/home/garcia-ln/Documentos/real-state-prices/data/raw/pa_properties.json')\n",
    "# bh_dt = pl.read_json('/home/garcia-ln/Documentos/real-state-prices/data/raw/bh_properties.json')\n",
    "\n",
    "sp_dt.write_parquet('/home/garcia-ln/Documentos/real-state-prices/data/processed/sp_properties.parquet')\n",
    "rj_dt.write_parquet('/home/garcia-ln/Documentos/real-state-prices/data/processed/rj_properties.parquet')\n",
    "pa_dt.write_parquet('/home/garcia-ln/Documentos/real-state-prices/data/processed/pa_properties.parquet')\n",
    "bh_dt.write_parquet('/home/garcia-ln/Documentos/real-state-prices/data/processed/bh_properties.parquet')"
   ]
  },
  {
   "cell_type": "code",
   "execution_count": null,
   "id": "758e56de",
   "metadata": {
    "slideshow": {
     "slide_type": "fragment"
    }
   },
   "outputs": [],
   "source": [
    "sql_sp = '''\n",
    "    CREATE TABLE sp_tbl as \n",
    "        SELECT * FROM '~/Documentos/real-state-prices/data/processed/sp_properties.parquet';\n",
    "    ALTER TABLE sp_tbl\n",
    "        ADD COLUMN city VARCHAR DEFAULT 'Sao_Paulo'\n",
    "'''\n",
    "\n",
    "sql_rj = '''\n",
    "    CREATE TABLE rj_tbl as \n",
    "         SELECT * FROM '~/Documentos/real-state-prices/data/processed/rj_properties.parquet';\n",
    "    ALTER TABLE rj_tbl\n",
    "        ADD COLUMN city VARCHAR DEFAULT 'Rio_de_Janeiro'\n",
    "'''\n",
    "\n",
    "sql_pa = '''\n",
    "    CREATE TABLE pa_tbl as \n",
    "        SELECT * FROM '~/Documentos/real-state-prices/data/processed/pa_properties.parquet';\n",
    "    ALTER TABLE pa_tbl\n",
    "        ADD COLUMN city VARCHAR DEFAULT 'Porto_Alegre'\n",
    "'''\n",
    "\n",
    "sql_bh = '''\n",
    "    CREATE TABLE bh_tbl as \n",
    "        SELECT * FROM '~/Documentos/real-state-prices/data/processed/bh_properties.parquet';\n",
    "    ALTER TABLE bh_tbl\n",
    "        ADD COLUMN city VARCHAR DEFAULT 'Belo_Horizonte'\n",
    "'''\n",
    "\n",
    "con.execute(sql_sp).fetchall()\n",
    "sp_df = con.table('sp_tbl').df()\n",
    "display(sp_df)\n",
    "\n",
    "\n",
    "con.execute(sql_rj).fetchall()\n",
    "rj_df = con.table('rj_tbl').df()\n",
    "display(rj_df)\n",
    "\n",
    "\n",
    "con.execute(sql_pa).fetchall()\n",
    "pa_df = con.table('pa_tbl').df()\n",
    "display(pa_df)\n",
    "\n",
    "\n",
    "con.execute(sql_bh).fetchall()\n",
    "bh_df = con.table('bh_tbl').df()\n",
    "display(bh_df)"
   ]
  },
  {
   "cell_type": "markdown",
   "id": "8a0d0512",
   "metadata": {
    "slideshow": {
     "slide_type": "slide"
    }
   },
   "source": [
    "## Dtypes\n",
    "\n",
    "Now that we altered the file from `.json` to `.parque` and added the feature to our dataset we're gonna **add all the tables together and define the dtypes of our data**.  \n",
    "\n",
    "\n",
    "After that we're gonna make sure to **change all dtypes of our dataset**, to keep a tidy dataset for our cleaning, analysis and modeling."
   ]
  },
  {
   "cell_type": "code",
   "execution_count": null,
   "id": "a1b59411",
   "metadata": {
    "slideshow": {
     "slide_type": "subslide"
    }
   },
   "outputs": [],
   "source": [
    "sql = '''\n",
    "    CREATE TABLE properties as\n",
    "        SELECT * FROM sp_tbl \n",
    "    UNION ALL \n",
    "        SELECT * FROM rj_tbl \n",
    "    UNION ALL \n",
    "        SELECT * FROM pa_tbl \n",
    "    UNION ALL \n",
    "        SELECT * FROM bh_tbl\n",
    "'''\n",
    "\n",
    "#con.execute(sql).fetchall()\n",
    "\n",
    "properties = pl.from_pandas(con.table('properties').df())\n",
    "properties"
   ]
  },
  {
   "cell_type": "code",
   "execution_count": null,
   "id": "abee6fa4-bbef-4d80-bf90-b0d1e9c63ce2",
   "metadata": {},
   "outputs": [],
   "source": [
    "properties = properties.with_columns(\n",
    "   [\n",
    "       (pl.col('type').cast(pl.Categorical)),\n",
    "       (pl.col('city').cast(pl.Categorical)),\n",
    "       (pl.col('address').cast(pl.Categorical)),\n",
    "       (pl.col('neighborhood').cast(pl.Categorical)),\n",
    "       (pl.col('footage').cast(pl.Int16)),\n",
    "       (pl.col('doorms').cast(pl.Int8)),\n",
    "       (pl.col('garages').cast(pl.Int8)),\n",
    "       (pl.col('price').cast(pl.Int32))\n",
    "   ]\n",
    ")"
   ]
  },
  {
   "cell_type": "code",
   "execution_count": null,
   "id": "49645736",
   "metadata": {
    "slideshow": {
     "slide_type": "fragment"
    }
   },
   "outputs": [],
   "source": [
    "# the code for change dtypes on Polars\n",
    "#properties = properties.with_columns(\n",
    "#    [\n",
    "#        (pl.col('type').cast(pl.Categorical)),\n",
    "#        (pl.col('city').cast(pl.Categorical)),\n",
    "#        (pl.col('address').cast(pl.Categorical)),\n",
    "#        (pl.col('neighborhood').cast(pl.Categorical)),\n",
    "#        (pl.col('footage').cast(pl.Int16)),\n",
    "#        (pl.col('doorms').cast(pl.Int8)),\n",
    "#        (pl.col('garages').cast(pl.Int8)),\n",
    "#        (pl.col('price').cast(pl.Int32))\n",
    "#    ]\n",
    "#)\n",
    "#\n",
    "#properties.write_parquet('/home/garcia-ln/Documentos/real-state-prices/data/processed/properties.parquet')\n",
    "properties = pl.read_parquet('/home/garcia-ln/Documentos/real-state-prices/data/processed/properties.parquet')"
   ]
  },
  {
   "cell_type": "code",
   "execution_count": null,
   "id": "3073b744",
   "metadata": {
    "slideshow": {
     "slide_type": "fragment"
    }
   },
   "outputs": [],
   "source": [
    "## here's the SQL query for changing the dtypes of the properties table\n",
    "\n",
    "con.execute('''\n",
    "    ALTER TABLE properties\n",
    "        ALTER type SET DATA TYPE VARCHAR;\n",
    "    ALTER TABLE properties\n",
    "        ALTER city SET DATA TYPE VARCHAR;\n",
    "    ALTER TABLE properties\n",
    "        ALTER address SET DATA TYPE VARCHAR;\n",
    "    ALTER TABLE properties\n",
    "        ALTER neighborhood SET DATA TYPE VARCHAR;\n",
    "    ALTER TABLE properties    \n",
    "        ALTER footage SET DATA TYPE SMALLINT;\n",
    "    ALTER TABLE properties    \n",
    "        ALTER doorms SET DATA TYPE INT2;\n",
    "    ALTER TABLE properties\n",
    "        ALTER garages SET DATA TYPE INT2;\n",
    "    ALTER TABLE properties    \n",
    "        ALTER price SET DATA TYPE INT4\n",
    "'''\n",
    ")"
   ]
  },
  {
   "cell_type": "markdown",
   "id": "b30c192b",
   "metadata": {
    "slideshow": {
     "slide_type": "slide"
    },
    "tags": []
   },
   "source": [
    "## EDA\n",
    "Now it's time for one of the most important part of a data job: the analysis. Here we're gonna focus on undertanding our data, **its features, shape, characteristics, distribution and interactions**.  \n",
    "\n",
    "We're gonna start by understanding the basic information on the qualy and quant variables, followed by some visualizations to help on the insights for our analysis.  \n",
    "\n",
    "What we want to check in our analysis (aside from business details that depends on the questions to be answered):  \n",
    "> - Frequency, Distributions and Density of observations (undertanding the proportions of inputs and outputs for both numerical and categorical features)\n",
    "> - Missing values\n",
    "> - Outliers\n",
    "> - Dirty data\n",
    "> - Feature Engineering\n",
    ">> - Handling missing values, outliers, and cleaning the dataset\n",
    ">> - Scalling the data (Standardization, Normalization) \n",
    ">> - Decoding categorical features\n",
    "> - Specificity\n",
    ">> - Normality\n",
    ">> - Linearity\n",
    ">> - Means Interaction\n",
    ">> - Variance Interaction\n",
    ">> - Autocorrelation\n",
    ">> - Multicolinearity\n",
    ">> - Heteroskedasticity\n",
    "> - Feature Selection \n",
    ">> - Correlation\n",
    ">> - K Neighbor\n",
    ">> - ChiSquare\n",
    ">> - Genetic Algo\n",
    ">> - Feature Importance (Extra Tree Classifier)\n",
    "\n",
    "Before we go on, lets make some changes on our dataset to make sure we'll be able to work on it. In this case, i'm gonna use `seaborn` for our dataviz (wich requires the DF on `pandas` format, and not `polars`) insted of using `plotly express` (wich we can use the `polars` DF and generates interactive plots). The reason for that, is for prettier dataviz made simple and easy, seaborn is the way to go and given that we don't have such a big df, there's no problem transforming the pl.df to pd.df just for plotting.  \n",
    "\n",
    "Said that, we're gonna by transforming the properties df."
   ]
  },
  {
   "cell_type": "code",
   "execution_count": null,
   "id": "6f422c6e",
   "metadata": {
    "slideshow": {
     "slide_type": "subslide"
    }
   },
   "outputs": [],
   "source": [
    "display(\n",
    "    properties.null_count(),\n",
    "    properties.schema\n",
    ")\n",
    "\n",
    "null = properties.filter(pl.col('type')==None).to_pandas()\n",
    "df = properties.to_pandas()"
   ]
  },
  {
   "cell_type": "code",
   "execution_count": null,
   "id": "0acd8179",
   "metadata": {
    "slideshow": {
     "slide_type": "subslide"
    }
   },
   "outputs": [],
   "source": [
    "display(\n",
    "    properties['type'].value_counts(),\n",
    "    properties['doorms'].value_counts().sort('doorms'),\n",
    "    properties['garages'].value_counts().sort('garages'),\n",
    "    properties['city'].value_counts()\n",
    ")"
   ]
  },
  {
   "cell_type": "markdown",
   "id": "fae6002f",
   "metadata": {
    "slideshow": {
     "slide_type": "slide"
    }
   },
   "source": [
    "From this, we can observe that we have a very small volume of missing values. But before we do anything with it, lets check if we have those null values concentrated on a group, or if it's well distributed through all citys and prices. After that, we decide whether to **drop those null values, or make some statistical interpolation**."
   ]
  },
  {
   "cell_type": "code",
   "execution_count": null,
   "id": "5d960d6e",
   "metadata": {
    "slideshow": {
     "slide_type": "fragment"
    }
   },
   "outputs": [],
   "source": [
    "display(df.describe(), df.info(), null.describe(), null.info())"
   ]
  },
  {
   "cell_type": "markdown",
   "id": "db7dd3dc",
   "metadata": {
    "slideshow": {
     "slide_type": "slide"
    }
   },
   "source": [
    "From this, we can see that we have some dirty data on out df, with records of properties with no doorms, and less than 10m². On some steps ahead, we're gonna clean or data propertly."
   ]
  },
  {
   "cell_type": "code",
   "execution_count": null,
   "id": "5e02e81b",
   "metadata": {
    "slideshow": {
     "slide_type": "fragment"
    }
   },
   "outputs": [],
   "source": [
    "source = 'Source: loft.com.br; Elaborated by author'\n",
    "\n",
    "sns.set_theme(\n",
    "    context='notebook', \n",
    "    style='darkgrid', \n",
    "    font_scale=1,\n",
    ")\n",
    "\n",
    "sns.catplot(\n",
    "    kind='count',\n",
    "    data=null, x='city', \n",
    "    height=4, aspect=1.3,  \n",
    "    orient='v', \n",
    "    alpha=.75, linewidth=1\n",
    ").set_axis_labels('City', 'Count').set_xticklabels(['SP', 'RJ', 'PA', 'BH'])\n",
    "plt.title('Null Count/City', fontname='Arial', size=15, fontweight=\"bold\")\n",
    "plt.annotate(\n",
    "    source,\n",
    "    xy=(1, -.2),\n",
    "    xycoords='axes fraction',\n",
    "    ha='center',\n",
    "    fontsize=8)\n",
    "plt.show()\n"
   ]
  },
  {
   "cell_type": "code",
   "execution_count": null,
   "id": "79a6b735",
   "metadata": {
    "slideshow": {
     "slide_type": "subslide"
    }
   },
   "outputs": [],
   "source": [
    "sns.catplot(\n",
    "    kind='box',\n",
    "    data=null, x='price', y='city',   \n",
    "    orient='h',\n",
    "    height=5, aspect=1.5\n",
    ").set_axis_labels('Price', 'City').set_xticklabels(\n",
    "    labels=['', '$0', '$500K', '$1M', '$1.5M', '$2M',\n",
    "            '$2.5M', '$3M', '$3.5M', '$4M'], \n",
    "    rotation=0\n",
    ")\n",
    "\n",
    "plt.title('Null Prices/City', fontname='Arial', size=15, fontweight='bold')\n",
    "plt.annotate(\n",
    "    source, \n",
    "    xy=(1, -.2),\n",
    "    xycoords='axes fraction',\n",
    "    ha='center',\n",
    "    fontsize=8)\n",
    "plt.show()"
   ]
  },
  {
   "cell_type": "code",
   "execution_count": null,
   "id": "910294b8",
   "metadata": {
    "slideshow": {
     "slide_type": "subslide"
    }
   },
   "outputs": [],
   "source": [
    "hist=so.Plot(\n",
    "        null, \n",
    "        x=\"price\", \n",
    "        y=None, \n",
    "        color=\"city\").add(\n",
    "                so.Bars(), \n",
    "                so.Hist(bins=15, stat='count'), \n",
    "                so.Dodge(),\n",
    "                )\n",
    "\n",
    "hist.label(title='Null Price/City', x='Price', y='Percentage').layout(size=(10, 5)).scale(\n",
    "        x = so.Continuous().tick(every=500_000).label(like='${x:,.0f}')\n",
    ").limit(x=(0, 3_500_000)).show()"
   ]
  },
  {
   "cell_type": "markdown",
   "id": "68020a06",
   "metadata": {
    "slideshow": {
     "slide_type": "slide"
    }
   },
   "source": [
    "This plots can make easy for us to understand that São Paulo has the majority of null type records, that's important for us when we proceed to use some interpolation to fill those empty data."
   ]
  },
  {
   "cell_type": "code",
   "execution_count": null,
   "id": "65ebf232",
   "metadata": {
    "slideshow": {
     "slide_type": "fragment"
    }
   },
   "outputs": [],
   "source": [
    "sns.set_theme(\n",
    "    context='notebook', \n",
    "    style='darkgrid', \n",
    "    font_scale=1.55,\n",
    ")\n",
    "\n",
    "\n",
    "sns.catplot(\n",
    "    kind='boxen',\n",
    "    data=df, y='price', col='type', x='city', col_wrap=3,\n",
    "    palette='ch:s=0, r=2, l=.4, d=.75', orient='v',\n",
    "    height=7, aspect=1\n",
    ").set_axis_labels('City', 'Price').set_yticklabels(\n",
    "    labels=['', '$0', '$5M', '$10M', '$15M', '$20M',\n",
    "            '$25M', '$30M', '$35M', '$40M', '$45M'], \n",
    "    rotation=0\n",
    ")\n",
    "\n",
    "plt.annotate(\n",
    "    source,\n",
    "    xy=(1, -.2),\n",
    "    xycoords='axes fraction',\n",
    "    ha='center',\n",
    "    fontsize=14)\n",
    "plt.show()"
   ]
  },
  {
   "cell_type": "code",
   "execution_count": null,
   "id": "99f9bd9c",
   "metadata": {
    "slideshow": {
     "slide_type": "subslide"
    }
   },
   "outputs": [],
   "source": [
    "sns.set_theme(\n",
    "    context='notebook', \n",
    "    style='darkgrid', \n",
    "    font_scale=1,\n",
    ")\n",
    "\n",
    "sns.displot(data=df, x='price', hue='type', col='city', col_wrap=2, \n",
    "    kind='hist', log_scale=True, element='step', \n",
    "    palette='ch:s=1, r=2, l=.3, d=.5', height=5, aspect=1\n",
    ").set_axis_labels('Prices(log)')\n",
    "\n",
    "plt.annotate(\n",
    "    source,\n",
    "    xy=(1, -.2),\n",
    "    xycoords='axes fraction',\n",
    "    ha='left',\n",
    "    fontsize=8)\n",
    "plt.show()"
   ]
  },
  {
   "cell_type": "code",
   "execution_count": null,
   "id": "efcca2c7",
   "metadata": {},
   "outputs": [],
   "source": [
    "sns.set_theme(\n",
    "    context='notebook', \n",
    "    style='darkgrid', \n",
    "    font_scale=1,\n",
    ")\n",
    "\n",
    "sns.displot(data=df, x='footage', hue='type', col='city', col_wrap=2, \n",
    "    kind='hist', log_scale=True, element='step', \n",
    "    palette='ch:s=1, r=2, l=.3, d=.5', height=5, aspect=1\n",
    ").set_axis_labels('Footage(log)')\n",
    "\n",
    "plt.annotate(\n",
    "    source,\n",
    "    xy=(1, -.2),\n",
    "    xycoords='axes fraction',\n",
    "    ha='left',\n",
    "    fontsize=8)\n",
    "plt.show()"
   ]
  },
  {
   "cell_type": "code",
   "execution_count": null,
   "id": "b01701bd",
   "metadata": {
    "slideshow": {
     "slide_type": "subslide"
    }
   },
   "outputs": [],
   "source": [
    "sns.set_theme(\n",
    "    context='notebook', \n",
    "    style='darkgrid', \n",
    "    font_scale=1,\n",
    ")\n",
    "\n",
    "sns.relplot(\n",
    "    data=df, x='price', y='footage', kind='scatter',\n",
    "    hue='type', col='city', col_wrap=2,\n",
    "    height=5, aspect=1\n",
    ").set_axis_labels('Prices (R$)', 'Footage (m²)').set_xticklabels(\n",
    "    labels=['', '$0', '$5M', '$10M', '$15M', '$20M',\n",
    "            '$25M', '$30M', '$35M', '$40M', '$45M'], \n",
    "    rotation=45\n",
    ")\n",
    "\n",
    "plt.annotate(\n",
    "    source,\n",
    "    xy=(1, -.2),\n",
    "    xycoords='axes fraction',\n",
    "    ha='left',\n",
    "    fontsize=8)\n",
    "plt.show()"
   ]
  },
  {
   "cell_type": "markdown",
   "id": "b033e6eb",
   "metadata": {
    "slideshow": {
     "slide_type": "slide"
    }
   },
   "source": [
    "As we can observe from the df plots, we have some outliers, specialy on SP and RJ (with prices >$10M, with >1 doorms, footage >1Km² and <10m²) that we have to deal with, in order to have a better analysis and model.  \n",
    "\n",
    "Latter on, we're gonna see the best way to deal with it. For now, we just gonna create a filter from some values for better visualizations."
   ]
  },
  {
   "cell_type": "code",
   "execution_count": null,
   "id": "0f2784a5",
   "metadata": {
    "slideshow": {
     "slide_type": "fragment"
    }
   },
   "outputs": [],
   "source": [
    "properties_2 = pl.from_pandas(con.table('properties').df())\n",
    "\n",
    "properties_2 = properties_2.filter(\n",
    "    (pl.col('type') == 'Apartamento') | \n",
    "    (pl.col('type') == 'Casa') | \n",
    "    (pl.col('type') == 'Cobertura')\n",
    ")\n",
    "\n",
    "properties_2 = properties_2.with_columns(\n",
    "   [\n",
    "       (pl.col('type').cast(pl.Categorical)),\n",
    "       (pl.col('city').cast(pl.Categorical)),\n",
    "       (pl.col('address').cast(pl.Categorical)),\n",
    "       (pl.col('neighborhood').cast(pl.Categorical)),\n",
    "       (pl.col('footage').cast(pl.Int16)),\n",
    "       (pl.col('doorms').cast(pl.Int8)),\n",
    "       (pl.col('garages').cast(pl.Int8)),\n",
    "       (pl.col('price').cast(pl.Int32))\n",
    "   ]\n",
    ")\n",
    "\n",
    "properties_2 = properties_2.filter(\n",
    "    (pl.col('price') < 10_000_000) & \n",
    "    (pl.col('footage') >= 10) & \n",
    "    (pl.col('footage') <= 1_000) &\n",
    "    (pl.col('doorms') >= 1),\n",
    ")\n",
    "\n",
    "display(\n",
    "    properties_2,\n",
    "    properties_2['type'].value_counts()\n",
    ")"
   ]
  },
  {
   "cell_type": "code",
   "execution_count": null,
   "id": "9bb9d156-3a44-4875-818d-cce2d0860283",
   "metadata": {
    "slideshow": {
     "slide_type": "fragment"
    }
   },
   "outputs": [],
   "source": [
    "properties_2 = properties_2.to_pandas()"
   ]
  },
  {
   "cell_type": "code",
   "execution_count": null,
   "id": "ae334aba-289b-4342-9502-cde78c1fb84c",
   "metadata": {
    "slideshow": {
     "slide_type": "subslide"
    }
   },
   "outputs": [],
   "source": []
  },
  {
   "cell_type": "code",
   "execution_count": null,
   "id": "0b13a635",
   "metadata": {
    "slideshow": {
     "slide_type": "subslide"
    }
   },
   "outputs": [],
   "source": [
    "sns.set_theme(\n",
    "    context='notebook', \n",
    "    style='darkgrid', \n",
    "    font_scale=1,\n",
    ")\n",
    "\n",
    "sns.relplot(\n",
    "    data=properties_2, x='price', y='footage', kind='scatter',\n",
    "    col='city', col_wrap=2, hue='type',\n",
    "    height=4, aspect=1\n",
    ").set_axis_labels('Prices (R$)', 'Footage (m²)').set_xticklabels(\n",
    "    labels=['', '$0', '$2M', '$4M', '$6M', '$8M', '$10M', '$12M'], \n",
    "    rotation=0\n",
    ")\n",
    "\n",
    "plt.annotate(\n",
    "    source,\n",
    "    xy=(1, -.3),\n",
    "    xycoords='axes fraction',\n",
    "    ha='left',\n",
    "    fontsize=8)\n",
    "plt.show()"
   ]
  },
  {
   "cell_type": "code",
   "execution_count": null,
   "id": "a7fd0d56",
   "metadata": {
    "slideshow": {
     "slide_type": "subslide"
    }
   },
   "outputs": [],
   "source": [
    "sns.set_theme(\n",
    "    context='notebook', \n",
    "    style='darkgrid', \n",
    "    font_scale=1\n",
    ")\n",
    "\n",
    "sns.displot(\n",
    "    data=properties_2, x='price', col='city', col_wrap=2, \n",
    "    kind='hist', log_scale=True, element='step', \n",
    "    height=5, aspect=1\n",
    ").set_axis_labels('Prices(log)')\n",
    "\n",
    "plt.annotate(\n",
    "    source,\n",
    "    xy=(1, -.2),\n",
    "    xycoords='axes fraction',\n",
    "    ha='center',\n",
    "    fontsize=8)\n",
    "plt.show()"
   ]
  },
  {
   "cell_type": "code",
   "execution_count": null,
   "id": "3ef99ef4",
   "metadata": {
    "slideshow": {
     "slide_type": "subslide"
    }
   },
   "outputs": [],
   "source": [
    "sns.set_theme(\n",
    "    context='notebook', \n",
    "    style='darkgrid', \n",
    "    font_scale=1\n",
    ")\n",
    "\n",
    "sns.catplot(\n",
    "    kind='boxen',\n",
    "    data=properties_2, y='price', x='city',\n",
    "    orient='v', height=5, aspect=1.3\n",
    ").set_axis_labels('Cities', 'Prices').set_yticklabels(\n",
    "    labels=['', '$0', '$2M', '$4M', '$6M', '$8M', '$10M', '$12M'], \n",
    "    rotation=0\n",
    ")\n",
    "\n",
    "plt.title('Null Count/City', fontname='Arial', size=15, fontweight=\"bold\")\n",
    "plt.annotate(\n",
    "    source,\n",
    "    xy=(1, -.2),\n",
    "    xycoords='axes fraction',\n",
    "    ha='left',\n",
    "    fontsize=8)\n",
    "plt.show()"
   ]
  },
  {
   "cell_type": "markdown",
   "id": "b6ff4c05-f410-488d-8c78-0188430a09ae",
   "metadata": {
    "slideshow": {
     "slide_type": "slide"
    }
   },
   "source": [
    "After we've checked the overall characteristics of our dataset, we can proceed with some changes for our model development stage.   \n",
    "\n",
    "As we've seen, the first thing after having diagnosed of our data is to perform Feature Selection (wich can be done both before we load the data into our development environment (as a SQL Query on some DW, usually) and after we load into our dataset (as we did here).  \n",
    "\n",
    "In our case, we have a dataset quite small, and with very few features, wich makes it really easy for us to use all the features that we have. That said, we're not gonna perform any of the techniques for Feature Selection."
   ]
  },
  {
   "cell_type": "code",
   "execution_count": null,
   "id": "e13b633a",
   "metadata": {
    "slideshow": {
     "slide_type": "subslide"
    }
   },
   "outputs": [],
   "source": [
    "sns.set_theme(\n",
    "    context='notebook', \n",
    "    style='darkgrid', \n",
    "    font_scale=1\n",
    ")\n",
    "\n",
    "stats.probplot(df['footage'], dist='norm', plot=plt)\n",
    "\n",
    "plt.title('QQ-Plot', fontname='Arial', size=15, fontweight=\"bold\")\n",
    "plt.annotate(\n",
    "    source,\n",
    "    xy=(1, -.2),\n",
    "    xycoords='axes fraction',\n",
    "    ha='center',\n",
    "    fontsize=8)\n",
    "plt.show()"
   ]
  },
  {
   "cell_type": "code",
   "execution_count": null,
   "id": "a3a37dee",
   "metadata": {},
   "outputs": [],
   "source": [
    "## Here we're gonna go with standard pearson correlation, since we know the overall interaction of our data\n",
    "## wich is, mostly, linear (both from the knowledge that we have about it, and from the analysis and plots)\n",
    "\n",
    "sns.set_theme(\n",
    "    context='notebook', \n",
    "    style='darkgrid', \n",
    "    font_scale=1.1,\n",
    ")\n",
    "\n",
    "sns.heatmap( \n",
    "    data=df.corr(\n",
    "        method='pearson', \n",
    "        numeric_only=True\n",
    "    ),\n",
    "    linewidths=.5, \n",
    "    linecolor='w', \n",
    "    annot=True\n",
    ")\n",
    "    \n",
    "plt.title('Heatmap: Pearson Corr. Test', fontname='Arial', size=15, fontweight='bold')\n",
    "plt.annotate(\n",
    "    source,\n",
    "    xy=(1, -.2),\n",
    "    xycoords='axes fraction',\n",
    "    ha='center',\n",
    "    fontsize=9)\n",
    "plt.show()\n",
    "\n",
    "\n",
    "sns.set_theme(\n",
    "    context='notebook', \n",
    "    style='darkgrid', \n",
    "    font_scale=1.1,\n",
    ")\n",
    "\n",
    "sns.heatmap( \n",
    "    data=dproperties_2.corr(\n",
    "        method='pearson', \n",
    "        numeric_only=True\n",
    "    ),\n",
    "    linewidths=.5, \n",
    "    linecolor='w', \n",
    "    annot=True\n",
    ")\n",
    "    \n",
    "plt.title('Heatmap: Pearson Corr. Test', fontname='Arial', size=15, fontweight='bold')\n",
    "plt.annotate(\n",
    "    source,\n",
    "    xy=(1, -.2),\n",
    "    xycoords='axes fraction',\n",
    "    ha='center',\n",
    "    fontsize=9)\n",
    "plt.show()"
   ]
  }
 ],
 "metadata": {
  "celltoolbar": "Slideshow",
  "kernelspec": {
   "display_name": "Python 3 (ipykernel)",
   "language": "python",
   "name": "python3"
  },
  "language_info": {
   "codemirror_mode": {
    "name": "ipython",
    "version": 3
   },
   "file_extension": ".py",
   "mimetype": "text/x-python",
   "name": "python",
   "nbconvert_exporter": "python",
   "pygments_lexer": "ipython3",
   "version": "3.11.0 (main, Nov  4 2022, 19:18:41) [GCC 9.4.0]"
  },
  "vscode": {
   "interpreter": {
    "hash": "d51eaf2bab5ade07ebe00b6ad723ed46cec5b86ecd5c27970a62f590a707991f"
   }
  }
 },
 "nbformat": 4,
 "nbformat_minor": 5
}

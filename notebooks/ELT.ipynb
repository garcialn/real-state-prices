{
 "cells": [
  {
   "cell_type": "code",
   "execution_count": null,
   "id": "7ba96b56",
   "metadata": {
    "slideshow": {
     "slide_type": "slide"
    },
    "tags": []
   },
   "outputs": [],
   "source": [
    "import pandas as pd\n",
    "import numpy as np\n",
    "import duckdb \n",
    "import pydantic \n",
    "import dataclasses\n",
    "import sqlalchemy\n",
    "\n",
    "%load_ext sql\n",
    "%config SqlMagic.autopandas = True\n",
    "%config SqlMagic.feedback = False\n",
    "%config SqlMagic.displaycon = False\n",
    "%sql duckdb:///:memory:"
   ]
  },
  {
   "cell_type": "code",
   "execution_count": null,
   "id": "81c20129",
   "metadata": {
    "slideshow": {
     "slide_type": "subslide"
    }
   },
   "outputs": [],
   "source": [
    "sp_dt = pd.read_json('/home/garcia-ln/Documentos/real-state-prices/data/raw/sp_properties.json')\n",
    "rj_dt = pd.read_json('/home/garcia-ln/Documentos/real-state-prices/data/raw/rj_properties.json')\n",
    "pa_dt = pd.read_json('/home/garcia-ln/Documentos/real-state-prices/data/raw/pa_properties.json')\n",
    "bh_dt = pd.read_json('/home/garcia-ln/Documentos/real-state-prices/data/raw/bh_properties.json')"
   ]
  },
  {
   "cell_type": "markdown",
   "id": "4dfbb7e2",
   "metadata": {
    "slideshow": {
     "slide_type": "slide"
    }
   },
   "source": [
    "# JSON > Parquet\n",
    "Before starting the process of cleaning and transforming the data for  our analysis, i'm gonna make sure to define all data types and convert the files into ```.parquet``` format so that i'm always dealing with optimazed performance DataFrames, no matter the situation.  \n",
    "\n",
    "For data, i'm gonna check the dtypes and and other basic info about each file:  \n",
    "\n",
    "But before getting into that, i need to add some information to each file, so that the final DataSet has all the information need it for the analysis and model development. "
   ]
  },
  {
   "cell_type": "code",
   "execution_count": null,
   "id": "cba99abf",
   "metadata": {
    "slideshow": {
     "slide_type": "subslide"
    }
   },
   "outputs": [],
   "source": [
    "dfs = [sp_dt, rj_dt, pa_dt, bh_dt]\n",
    "cities = ['Sao_Paulo', 'Rio_de_Janeiro', 'Porto_Alegre', 'Belo_Horizonte']\n",
    "\n",
    "dfs[0]['city'], dfs[1]['city'], dfs[2]['city'], dfs[3]['city'] = cities[0], cities[1], cities[2], cities[3]\n",
    "for city in dfs:\n",
    "    display(city)\n",
    "    display(city.info())\n",
    "    display(city.describe())"
   ]
  },
  {
   "cell_type": "code",
   "execution_count": null,
   "id": "106f7100",
   "metadata": {
    "slideshow": {
     "slide_type": "slide"
    }
   },
   "outputs": [],
   "source": [
    "def set_dtype(self):\n",
    "    self['type'] = self['type'].astype('category')\n",
    "    self['address'] = self['address'].astype('category')\n",
    "    self['neighborhood'] = self['neighborhood'].astype('category')\n",
    "    self['footage'] = self['footage'].astype('int16')\n",
    "    self['doorms'] = self['doorms'].astype('int8')\n",
    "    self['garages'] = self['garages'].astype('int8')\n",
    "    self['city'] = self['city'].astype('category')\n",
    "    self['price'] = self['price'].astype('float64')\n",
    "    return self\n",
    "\n",
    "for city in dfs:\n",
    "    set_dtype(city)\n",
    "    display(city.describe())\n",
    "    display(city.info())\n",
    "    display(city)\n"
   ]
  },
  {
   "cell_type": "code",
   "execution_count": null,
   "id": "06338385",
   "metadata": {
    "slideshow": {
     "slide_type": "fragment"
    }
   },
   "outputs": [],
   "source": [
    "sp_dt.to_parquet('~/Documentos/real-state-prices/data/processed/sp_properties.parquet', index=None)\n",
    "rj_dt.to_parquet('~/Documentos/real-state-prices/data/processed/rj_properties.parquet', index=None)\n",
    "pa_dt.to_parquet('~/Documentos/real-state-prices/data/processed/pa_properties.parquet', index=None)\n",
    "bh_dt.to_parquet('~/Documentos/real-state-prices/data/processed/bh_properties.parquet', index=None)"
   ]
  },
  {
   "cell_type": "code",
   "execution_count": null,
   "id": "3073b744",
   "metadata": {
    "slideshow": {
     "slide_type": "notes"
    }
   },
   "outputs": [],
   "source": [
    "# con = duckdb.connect()\n",
    "\n",
    "results = con.execute(\n",
    "    \"CREATE TABLE sp_tbl AS SELECT * FROM read_parquet('~/Documentos/real-state-prices/data/processed/sp_properties.parquet')\"\n",
    ").df()"
   ]
  }
 ],
 "metadata": {
  "celltoolbar": "Slideshow",
  "kernelspec": {
   "display_name": "Python 3 (ipykernel)",
   "language": "python",
   "name": "python3"
  },
  "language_info": {
   "codemirror_mode": {
    "name": "ipython",
    "version": 3
   },
   "file_extension": ".py",
   "mimetype": "text/x-python",
   "name": "python",
   "nbconvert_exporter": "python",
   "pygments_lexer": "ipython3",
   "version": "3.11.0"
  },
  "vscode": {
   "interpreter": {
    "hash": "d51eaf2bab5ade07ebe00b6ad723ed46cec5b86ecd5c27970a62f590a707991f"
   }
  }
 },
 "nbformat": 4,
 "nbformat_minor": 5
}
